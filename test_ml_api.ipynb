{
  "cells": [
    {
      "cell_type": "markdown",
      "metadata": {},
      "source": [
        "# Test MercadoLibre API\n",
        "\n",
        "Notebook para probar la API oficial de MercadoLibre y ver qué datos nos devuelve.\n",
        "\n",
        "## Setup\n",
        "1. Configurar `ML_ACCESS_TOKEN` en tu `.env`\n",
        "2. Ejecutar las celdas para probar la API\n",
        "3. Analizar qué campos devuelve vs nuestros modelos\n"
      ]
    },
    {
      "cell_type": "code",
      "execution_count": null,
      "metadata": {},
      "outputs": [],
      "source": [
        "# Importar librerías\n",
        "import json\n",
        "import os\n",
        "from dotenv import load_dotenv\n",
        "from src.api.ml_client import MercadoLibreClient\n",
        "from src.models.database import init_db\n",
        "\n",
        "# Cargar variables de entorno\n",
        "load_dotenv()\n",
        "\n",
        "print(\"✅ Librerías importadas\")\n",
        "print(f\"🔑 ML_ACCESS_TOKEN configurado: {'Sí' if os.getenv('ML_ACCESS_TOKEN') else 'No'}\")\n",
        "print(f\"🗄️ DATABASE_URL: {os.getenv('DATABASE_URL', 'No configurado')}\")\n"
      ]
    },
    {
      "cell_type": "code",
      "execution_count": null,
      "metadata": {},
      "outputs": [],
      "source": [
        "# Inicializar cliente de MercadoLibre\n",
        "client = MercadoLibreClient()\n",
        "print(\"✅ Cliente MercadoLibre inicializado\")\n",
        "\n",
        "# Producto de prueba (el aire acondicionado que ya tenemos)\n",
        "test_item_id = \"MLA25265603\"\n",
        "print(f\"🎯 Probando con item_id: {test_item_id}\")\n"
      ]
    },
    {
      "cell_type": "code",
      "execution_count": null,
      "metadata": {},
      "outputs": [],
      "source": [
        "# Test 1: Obtener información del producto\n",
        "print(\"=== TEST 1: get_product_info ===\")\n",
        "try:\n",
        "    product_data = client.get_product_info(test_item_id)\n",
        "    print(\"✅ Product data obtenido:\")\n",
        "    print(json.dumps(product_data, indent=2, default=str, ensure_ascii=False))\n",
        "    \n",
        "    # Verificar qué campos tenemos vs nuestros modelos\n",
        "    print(\"\\n🔍 Campos disponibles en la API:\")\n",
        "    for key, value in product_data.items():\n",
        "        print(f\"  {key}: {type(value).__name__} = {value}\")\n",
        "        \n",
        "except Exception as e:\n",
        "    print(f\"❌ Error obteniendo product info: {e}\")\n",
        "    import traceback\n",
        "    traceback.print_exc()\n"
      ]
    },
    {
      "cell_type": "code",
      "execution_count": null,
      "metadata": {},
      "outputs": [],
      "source": [
        "# Test 2: Obtener reviews del producto\n",
        "print(\"=== TEST 2: get_product_reviews ===\")\n",
        "try:\n",
        "    reviews_data = client.get_product_reviews(test_item_id, limit=3, offset=0)\n",
        "    print(\"✅ Reviews data obtenido:\")\n",
        "    print(json.dumps(reviews_data, indent=2, default=str, ensure_ascii=False))\n",
        "    \n",
        "    # Analizar estructura de reviews\n",
        "    if 'reviews' in reviews_data and reviews_data['reviews']:\n",
        "        print(\"\\n🔍 Estructura de un review:\")\n",
        "        first_review = reviews_data['reviews'][0]\n",
        "        for key, value in first_review.items():\n",
        "            print(f\"  {key}: {type(value).__name__} = {value}\")\n",
        "    \n",
        "    # Verificar paginación\n",
        "    if 'paging' in reviews_data:\n",
        "        print(\"\\n📄 Info de paginación:\")\n",
        "        print(json.dumps(reviews_data['paging'], indent=2, default=str))\n",
        "        \n",
        "except Exception as e:\n",
        "    print(f\"❌ Error obteniendo reviews: {e}\")\n",
        "    import traceback\n",
        "    traceback.print_exc()\n"
      ]
    },
    {
      "cell_type": "code",
      "execution_count": null,
      "metadata": {},
      "outputs": [],
      "source": [
        "# Test 3: Probar ReviewCacheService\n",
        "print(\"=== TEST 3: ReviewCacheService ===\")\n",
        "try:\n",
        "    from src.services.review_scraper import ReviewCacheService\n",
        "    from src.models.database import get_session\n",
        "    \n",
        "    # Inicializar DB si no existe\n",
        "    init_db()\n",
        "    \n",
        "    svc = ReviewCacheService(client)\n",
        "    \n",
        "    with get_session() as db:\n",
        "        print(\"\\n📦 Probando get_or_fetch_product...\")\n",
        "        product = svc.get_or_fetch_product(db, test_item_id)\n",
        "        print(f\"✅ Producto obtenido: {product.id} - {product.title}\")\n",
        "        print(f\"   Marca: '{product.marca}'\")\n",
        "        print(f\"   Modelo: '{product.modelo}'\")\n",
        "        print(f\"   Características: {product.caracteristicas}\")\n",
        "        \n",
        "        print(\"\\n📝 Probando fetch_and_store_reviews...\")\n",
        "        reviews = svc.fetch_and_store_reviews(db, test_item_id, limit=2, offset=0)\n",
        "        print(f\"✅ {len(reviews)} reviews guardadas\")\n",
        "        \n",
        "        if reviews:\n",
        "            first_review = reviews[0]\n",
        "            print(f\"   Primer review: {first_review.id} - Rating: {first_review.rate}/5\")\n",
        "            print(f\"   Source: '{first_review.source}'\")\n",
        "            print(f\"   API Review ID: '{first_review.api_review_id}'\")\n",
        "            \n",
        "except Exception as e:\n",
        "    print(f\"❌ Error probando ReviewCacheService: {e}\")\n",
        "    import traceback\n",
        "    traceback.print_exc()\n"
      ]
    },
    {
      "cell_type": "code",
      "execution_count": null,
      "metadata": {},
      "outputs": [],
      "source": [
        "# Test 4: Comparar con scrape_final.py\n",
        "print(\"=== TEST 4: Comparación con scrape_final ===\")\n",
        "print(\"\\n📊 Resumen de diferencias:\")\n",
        "print(\"\\n🔵 API Oficial (ml_client.py):\")\n",
        "print(\"   ✅ Requiere token\")\n",
        "print(\"   ✅ Rate limits oficiales\")\n",
        "print(\"   ✅ Datos estructurados\")\n",
        "print(\"   ❌ Limitado por permisos del token\")\n",
        "\n",
        "print(\"\\n🟢 API Noindex (scrape_final.py):\")\n",
        "print(\"   ✅ No requiere token\")\n",
        "print(\"   ✅ Más permisivo\")\n",
        "print(\"   ✅ Más reviews por request\")\n",
        "print(\"   ❌ Puede cambiar sin aviso\")\n",
        "\n",
        "print(\"\\n💡 Recomendación:\")\n",
        "print(\"   - Usar API oficial para datos básicos y confiabilidad\")\n",
        "print(\"   - Usar API noindex para obtener más reviews\")\n",
        "print(\"   - Mantener ambos modos según el caso de uso\")\n"
      ]
    },
    {
      "cell_type": "markdown",
      "metadata": {},
      "source": [
        "## Próximos pasos\n",
        "\n",
        "1. **Si obtuviste el token**: Ejecuta todas las celdas y analiza los resultados\n",
        "2. **Si no tienes token**: La API oficial fallará, pero podrás ver la estructura\n",
        "3. **Comparar datos**: Ver qué campos devuelve cada API\n",
        "4. **Decidir estrategia**: Cómo mapear los campos a nuestros modelos\n",
        "\n",
        "### Para obtener el token:\n",
        "1. Ir a https://developers.mercadolibre.com.ar/\n",
        "2. Crear una aplicación\n",
        "3. Obtener el Access Token\n",
        "4. Agregarlo a tu `.env` como `ML_ACCESS_TOKEN=tu_token_aqui`\n"
      ]
    }
  ],
  "metadata": {
    "language_info": {
      "name": "python"
    }
  },
  "nbformat": 4,
  "nbformat_minor": 2
}
